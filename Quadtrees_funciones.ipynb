{
  "nbformat": 4,
  "nbformat_minor": 0,
  "metadata": {
    "colab": {
      "provenance": [],
      "authorship_tag": "ABX9TyPx12A7ltma/rW3nXO192Pi",
      "include_colab_link": true
    },
    "kernelspec": {
      "name": "python3",
      "display_name": "Python 3"
    },
    "language_info": {
      "name": "python"
    }
  },
  "cells": [
    {
      "cell_type": "markdown",
      "metadata": {
        "id": "view-in-github",
        "colab_type": "text"
      },
      "source": [
        "<a href=\"https://colab.research.google.com/github/RodrigoGuedesDP/Quadtrees-with-GIS/blob/main/Quadtrees_funciones.ipynb\" target=\"_parent\"><img src=\"https://colab.research.google.com/assets/colab-badge.svg\" alt=\"Open In Colab\"/></a>"
      ]
    },
    {
      "cell_type": "markdown",
      "source": [
        "### 1. Estructura Básica del Quadtree\n",
        "En JavaScript implementamos dos clases principales: `Boundary` (límite) y `Quadtree`. En Python sería así:"
      ],
      "metadata": {
        "id": "_ppJ2SbMSxpq"
      }
    },
    {
      "cell_type": "code",
      "execution_count": null,
      "metadata": {
        "id": "UkATJeL3SkZq"
      },
      "outputs": [],
      "source": [
        "\n",
        "class Boundary:\n",
        "    def __init__(self, x, y, width, height):\n",
        "        self.x = x\n",
        "        self.y = y\n",
        "        self.width = width\n",
        "        self.height = height\n",
        "\n",
        "    def contains(self, point):\n",
        "        return (point.x >= self.x - self.width/2 and\n",
        "                point.x < self.x + self.width/2 and\n",
        "                point.y >= self.y - self.height/2 and\n",
        "                point.y < self.y + self.height/2)\n",
        "\n",
        "class Quadtree:\n",
        "    def __init__(self, boundary, capacity=4, max_depth=10, depth=0):\n",
        "        self.boundary = boundary\n",
        "        self.capacity = capacity\n",
        "        self.points = []\n",
        "        self.divided = False\n",
        "        self.max_depth = max_depth\n",
        "        self.depth = depth\n",
        "\n",
        "        # Referencias a los nodos hijos\n",
        "        self.northeast = None\n",
        "        self.northwest = None\n",
        "        self.southeast = None\n",
        "        self.southwest = None\n",
        "```\n",
        "\n",
        "\n",
        "\n",
        "\n",
        "\n",
        "\n",
        "\n"
      ]
    },
    {
      "cell_type": "markdown",
      "source": [
        "### 2. Inserción de Puntos\n",
        "\n",
        "La inserción verifica si un punto está dentro del límite del nodo actual. Si hay espacio y no se ha alcanzado la profundidad máxima, se agrega el punto. Si no hay espacio, se subdivide el nodo"
      ],
      "metadata": {
        "id": "A38YdMgmS_I6"
      }
    },
    {
      "cell_type": "code",
      "source": [
        "\n",
        "def insert(self, point):\n",
        "    # Si el punto está fuera del límite, no se inserta\n",
        "    if not self.boundary.contains(point):\n",
        "        return False\n",
        "\n",
        "    # Si hay espacio y no está dividido, insertar aquí\n",
        "    if len(self.points) < self.capacity and not self.divided and self.depth < self.max_depth:\n",
        "        self.points.append(point)\n",
        "        return True\n",
        "\n",
        "    # Si no está dividido y no alcanzó profundidad máxima, subdividir\n",
        "    if not self.divided and self.depth < self.max_depth:\n",
        "        self.subdivide()\n",
        "\n",
        "    # Intentar insertar en los hijos\n",
        "    if self.divided:\n",
        "        return (self.northeast.insert(point) or\n",
        "                self.northwest.insert(point) or\n",
        "                self.southeast.insert(point) or\n",
        "                self.southwest.insert(point))\n",
        "\n",
        "    # Si alcanzó profundidad máxima, agregar aquí\n",
        "    self.points.append(point)\n",
        "    return True\n"
      ],
      "metadata": {
        "id": "B6GwMij4S5e0"
      },
      "execution_count": null,
      "outputs": []
    },
    {
      "cell_type": "markdown",
      "source": [
        "### 3. Subdivisión de Nodos\n",
        "Cuando un nodo alcanza su capacidad máxima, se divide en cuatro cuadrantes:"
      ],
      "metadata": {
        "id": "CPjzEqEOSwP0"
      }
    },
    {
      "cell_type": "code",
      "source": [
        "\n",
        "def subdivide(self):\n",
        "    x = self.boundary.x\n",
        "    y = self.boundary.y\n",
        "    w = self.boundary.width / 2\n",
        "    h = self.boundary.height / 2\n",
        "    next_depth = self.depth + 1\n",
        "\n",
        "    # Crear límites para cada cuadrante\n",
        "    ne = Boundary(x + w/2, y - h/2, w, h)\n",
        "    nw = Boundary(x - w/2, y - h/2, w, h)\n",
        "    se = Boundary(x + w/2, y + h/2, w, h)\n",
        "    sw = Boundary(x - w/2, y + h/2, w, h)\n",
        "\n",
        "    # Crear nodos hijos\n",
        "    self.northeast = Quadtree(ne, self.capacity, self.max_depth, next_depth)\n",
        "    self.northwest = Quadtree(nw, self.capacity, self.max_depth, next_depth)\n",
        "    self.southeast = Quadtree(se, self.capacity, self.max_depth, next_depth)\n",
        "    self.southwest = Quadtree(sw, self.capacity, self.max_depth, next_depth)\n",
        "\n",
        "    # Redistribuir puntos existentes\n",
        "    for point in self.points:\n",
        "        self.northeast.insert(point) or \\\n",
        "        self.northwest.insert(point) or \\\n",
        "        self.southeast.insert(point) or \\\n",
        "        self.southwest.insert(point)\n",
        "\n",
        "    self.points = []  # Vaciar puntos del nodo padre\n",
        "    self.divided = True\n"
      ],
      "metadata": {
        "id": "WlSSX-uNTKDv"
      },
      "execution_count": null,
      "outputs": []
    },
    {
      "cell_type": "markdown",
      "source": [
        "### 4. Búsqueda de Puntos\n",
        "\n",
        "La búsqueda encuentra todos los puntos dentro de un área específica:"
      ],
      "metadata": {
        "id": "poMIHbc5TX8d"
      }
    },
    {
      "cell_type": "code",
      "source": [
        "\n",
        "def query(self, range):\n",
        "    found_points = []\n",
        "\n",
        "    # Si el rango no intersecta con este nodo, retornar vacío\n",
        "    if not self.boundary.intersects(range):\n",
        "        return found_points\n",
        "\n",
        "    # Verificar puntos en este nodo\n",
        "    for point in self.points:\n",
        "        if range.contains(point):\n",
        "            found_points.append(point)\n",
        "\n",
        "    # Si está dividido, buscar en los hijos\n",
        "    if self.divided:\n",
        "        found_points.extend(self.northeast.query(range))\n",
        "        found_points.extend(self.northwest.query(range))\n",
        "        found_points.extend(self.southeast.query(range))\n",
        "        found_points.extend(self.southwest.query(range))\n",
        "\n",
        "    return found_points\n"
      ],
      "metadata": {
        "id": "hdOratAMTXLX"
      },
      "execution_count": null,
      "outputs": []
    },
    {
      "cell_type": "markdown",
      "source": [
        "###5. Eliminación de Puntos\n",
        "La eliminación busca y remueve un punto específico:"
      ],
      "metadata": {
        "id": "bzZckcN6TpJI"
      }
    },
    {
      "cell_type": "code",
      "source": [
        "def remove(self, point, compare_func=lambda p1, p2: p1.id == p2.id):\n",
        "    # Si el punto está fuera del límite\n",
        "    if not self.boundary.contains(point):\n",
        "        return False\n",
        "\n",
        "    # Buscar en los puntos de este nodo\n",
        "    for i, p in enumerate(self.points):\n",
        "        if compare_func(p, point):\n",
        "            self.points.pop(i)\n",
        "            return True\n",
        "\n",
        "    # Si está dividido, buscar en los hijos\n",
        "    if self.divided:\n",
        "        return (self.northeast.remove(point, compare_func) or\n",
        "                self.northwest.remove(point, compare_func) or\n",
        "                self.southeast.remove(point, compare_func) or\n",
        "                self.southwest.remove(point, compare_func))\n",
        "\n",
        "    return False"
      ],
      "metadata": {
        "id": "dW-b53hFTeh1"
      },
      "execution_count": null,
      "outputs": []
    },
    {
      "cell_type": "markdown",
      "source": [
        "###Explicación del Funcionamiento:\n",
        "##Inserción:\n",
        "Verifica si el punto está dentro del límite del nodo\n",
        "Si hay espacio y no se alcanzó la profundidad máxima, inserta el punto\n",
        "Si no hay espacio, subdivide el nodo y redistribuye los puntos\n",
        "##Subdivisión:\n",
        "Divide el espacio en cuatro cuadrantes iguales\n",
        "Crea nuevos nodos para cada cuadrante\n",
        "Redistribuye los puntos existentes a los nodos hijos apropiados\n",
        "##Búsqueda:\n",
        "Verifica si el área de búsqueda intersecta con el nodo actual\n",
        "Recolecta puntos que están dentro del área de búsqueda\n",
        "Recursivamente busca en los nodos hijos si existen\n",
        "##Eliminación:\n",
        "Busca el punto en el nodo actual\n",
        "Si no se encuentra y el nodo está dividido, busca en los hijos\n",
        "Elimina el punto cuando lo encuentra\n",
        "La eficiencia de estas operaciones depende de la distribución de los puntos y la profundidad máxima permitida. En el mejor caso, las operaciones tienen una complejidad de O(log n), pero en el peor caso (cuando todos los puntos están muy cercanos) puede ser O(n)."
      ],
      "metadata": {
        "id": "lC4bg7W9TxQh"
      }
    }
  ]
}